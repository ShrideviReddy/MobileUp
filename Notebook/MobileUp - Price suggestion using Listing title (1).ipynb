{
 "cells": [
  {
   "cell_type": "markdown",
   "metadata": {},
   "source": [
    "## MobileUp - Price Suggestion tool to optimize your sales"
   ]
  },
  {
   "cell_type": "markdown",
   "metadata": {},
   "source": [
    "### Business Understanding"
   ]
  },
  {
   "cell_type": "markdown",
   "metadata": {},
   "source": [
    "Sales not only depends on promotion but also how you present your product to customers. While doing online shopping , we tend to click products that have relevant titles or title that has all details that you need. Based on this nature of customers, we are trying to study relation between good title and price, and build price suggestion tool for used iPhone. Seller can use this application to get estimate price and understanding of important keywords to include.  \n"
   ]
  },
  {
   "cell_type": "markdown",
   "metadata": {},
   "source": [
    "### Why it matters "
   ]
  },
  {
   "cell_type": "markdown",
   "metadata": {},
   "source": [
    "This problem is relevant, because:\n",
    "* Internet is filled with so many things and your product might not be different. But you can distinguish your product using right title. \n",
    "* Not all sellers know latest market trends. This tools helps them to understand important features and how they can improve."
   ]
  },
  {
   "cell_type": "markdown",
   "metadata": {},
   "source": [
    "### Our Dataset: Listing title from eBay\n",
    "* Since focus of project is to find relation between listing title and price of used products, we decided to get data from biggest ecommerce site eBay. eBay developer API is great tool for creating your ecommerce dataset.  \n",
    "* We scraped over 1000+ listings titles and their corresponding Price from eBay API for iPhone 11, iPhone 12 and iPhone XR. You can check code for webscraping here. "
   ]
  },
  {
   "cell_type": "markdown",
   "metadata": {},
   "source": [
    "## Feature Engineering"
   ]
  },
  {
   "cell_type": "markdown",
   "metadata": {},
   "source": [
    "Since data we collected from eBay was raw dataset, we did feature engineering to get relevant features."
   ]
  },
  {
   "cell_type": "markdown",
   "metadata": {},
   "source": [
    "### Data overview"
   ]
  },
  {
   "cell_type": "code",
   "execution_count": 1,
   "metadata": {},
   "outputs": [],
   "source": [
    "import numpy as np\n",
    "import pandas as pd\n",
    "\n",
    "columns = ['Listing', 'Price']\n",
    "df_iphone11 = pd.read_csv('Iphone11_listing.csv', names = columns, header = None)\n",
    "df_iphone12 = pd.read_csv('Iphone12_listing.csv', names = columns, header = None)\n",
    "df_iphoneXR = pd.read_csv('IphoneXR_listing.csv', names = columns, header = None)"
   ]
  },
  {
   "cell_type": "code",
   "execution_count": 2,
   "metadata": {},
   "outputs": [],
   "source": [
    "df = pd.concat([df_iphone11, df_iphone12, df_iphoneXR], sort=False)"
   ]
  },
  {
   "cell_type": "code",
   "execution_count": 3,
   "metadata": {},
   "outputs": [
    {
     "data": {
      "text/html": [
       "<div>\n",
       "<style scoped>\n",
       "    .dataframe tbody tr th:only-of-type {\n",
       "        vertical-align: middle;\n",
       "    }\n",
       "\n",
       "    .dataframe tbody tr th {\n",
       "        vertical-align: top;\n",
       "    }\n",
       "\n",
       "    .dataframe thead th {\n",
       "        text-align: right;\n",
       "    }\n",
       "</style>\n",
       "<table border=\"1\" class=\"dataframe\">\n",
       "  <thead>\n",
       "    <tr style=\"text-align: right;\">\n",
       "      <th></th>\n",
       "      <th>Listing</th>\n",
       "      <th>Price</th>\n",
       "    </tr>\n",
       "  </thead>\n",
       "  <tbody>\n",
       "    <tr>\n",
       "      <th>0</th>\n",
       "      <td>Apple iPhone 11 Smartphone 64GB 128GB AT&amp;T Spr...</td>\n",
       "      <td>509.00</td>\n",
       "    </tr>\n",
       "    <tr>\n",
       "      <th>1</th>\n",
       "      <td>Apple iPhone 11 Pro Max - 64GB 256GB 512GB, Al...</td>\n",
       "      <td>769.99</td>\n",
       "    </tr>\n",
       "    <tr>\n",
       "      <th>2</th>\n",
       "      <td>Unlocked Apple iPhone 11 🍎 64GB 128GB 256GB Ve...</td>\n",
       "      <td>499.99</td>\n",
       "    </tr>\n",
       "    <tr>\n",
       "      <th>3</th>\n",
       "      <td>Apple iPhone 11 Smartphone 64GB 128GB AT&amp;T Spr...</td>\n",
       "      <td>509.00</td>\n",
       "    </tr>\n",
       "    <tr>\n",
       "      <th>4</th>\n",
       "      <td>Apple iPhone 11 Smartphone 64GB 128GB AT&amp;T Spr...</td>\n",
       "      <td>509.00</td>\n",
       "    </tr>\n",
       "  </tbody>\n",
       "</table>\n",
       "</div>"
      ],
      "text/plain": [
       "                                             Listing   Price\n",
       "0  Apple iPhone 11 Smartphone 64GB 128GB AT&T Spr...  509.00\n",
       "1  Apple iPhone 11 Pro Max - 64GB 256GB 512GB, Al...  769.99\n",
       "2  Unlocked Apple iPhone 11 🍎 64GB 128GB 256GB Ve...  499.99\n",
       "3  Apple iPhone 11 Smartphone 64GB 128GB AT&T Spr...  509.00\n",
       "4  Apple iPhone 11 Smartphone 64GB 128GB AT&T Spr...  509.00"
      ]
     },
     "execution_count": 3,
     "metadata": {},
     "output_type": "execute_result"
    }
   ],
   "source": [
    "df.head()"
   ]
  },
  {
   "cell_type": "code",
   "execution_count": 4,
   "metadata": {},
   "outputs": [
    {
     "data": {
      "text/plain": [
       "(1013, 2)"
      ]
     },
     "execution_count": 4,
     "metadata": {},
     "output_type": "execute_result"
    }
   ],
   "source": [
    "df.shape"
   ]
  },
  {
   "cell_type": "markdown",
   "metadata": {},
   "source": [
    "### Getting features"
   ]
  },
  {
   "cell_type": "markdown",
   "metadata": {},
   "source": [
    "We used different pandas series and string operations to get relevant features. We created dummy variables for model type, whether title has memory size, network, color and locked/unlocked mentioned."
   ]
  },
  {
   "cell_type": "code",
   "execution_count": 5,
   "metadata": {},
   "outputs": [],
   "source": [
    "import re\n",
    "df['model_iPhone11'] = df['Listing'].str.contains('iPhone 11|iPhone11' , flags=re.IGNORECASE) & (~df['Listing'].str.contains('Pro' , flags=re.IGNORECASE)) & (~df['Listing'].str.contains('Max' , flags=re.IGNORECASE))\n",
    "\n",
    "df['model_iPhone11_pro'] = df['Listing'].str.contains('iPhone 11|iPhone11' , flags=re.IGNORECASE) & df['Listing'].str.contains('Pro' , flags=re.IGNORECASE) & (~df['Listing'].str.contains('Max' , flags=re.IGNORECASE))\n",
    "    \n",
    "df['model_iPhone11_pro_max'] = df['Listing'].str.contains('iPhone 11|iPhone 11' , flags=re.IGNORECASE) & df['Listing'].str.contains('Pro' , flags=re.IGNORECASE) & df['Listing'].str.contains('Max' , flags=re.IGNORECASE) "
   ]
  },
  {
   "cell_type": "code",
   "execution_count": 6,
   "metadata": {},
   "outputs": [],
   "source": [
    "df['model_iPhone12'] = df['Listing'].str.contains('iPhone 12|iPhone12' , flags=re.IGNORECASE) & ~df['Listing'].str.contains('Pro' , flags=re.IGNORECASE)  & ~df['Listing'].str.contains('Max' , flags=re.IGNORECASE) \n",
    "\n",
    "df['model_iPhone12_pro'] = df['Listing'].str.contains('iPhone 12|iPhone12' , flags=re.IGNORECASE) & df['Listing'].str.contains('Pro' , flags=re.IGNORECASE) & ~df['Listing'].str.contains('Max' , flags=re.IGNORECASE)\n",
    "\n",
    "df['model_iPhone12_pro_max'] = df['Listing'].str.contains('iPhone 12|iPhone 12' , flags=re.IGNORECASE) & df['Listing'].str.contains('Pro' , flags=re.IGNORECASE) & df['Listing'].str.contains('Max' , flags=re.IGNORECASE) "
   ]
  },
  {
   "cell_type": "code",
   "execution_count": 7,
   "metadata": {},
   "outputs": [],
   "source": [
    "df['model_iPhoneXR'] = df['Listing'].str.contains('iPhone XR|iPhoneXR' , flags=re.IGNORECASE).astype('int')"
   ]
  },
  {
   "cell_type": "code",
   "execution_count": 8,
   "metadata": {},
   "outputs": [],
   "source": [
    "import re\n",
    "\n",
    "def correct_name(row):\n",
    "    if row[\"model_iPhone11\"] == True:\n",
    "        return \"iPhone11\"\n",
    "    elif row[\"model_iPhone11_pro\"] == True:\n",
    "        return \"iPhone11 Pro\"\n",
    "    elif row[\"model_iPhone11_pro_max\"] == True:\n",
    "        return \"iPhone11 Pro Max\"\n",
    "    elif row[\"model_iPhone12\"] == True:\n",
    "        return \"iPhone12\"  \n",
    "    elif row[\"model_iPhone12_pro\"] == True:\n",
    "        return \"iPhone12 Pro\" \n",
    "    elif row[\"model_iPhone12_pro_max\"] == True:\n",
    "        return \"iPhone12 Pro Max\" \n",
    "    elif row[\"model_iPhoneXR\"] == 1:\n",
    "        return \"iPhoneXR\" \n",
    "    else:\n",
    "        return 'NaN'\n",
    "    \n",
    "df[\"model_category\"] = df.apply(correct_name, axis=1)"
   ]
  },
  {
   "cell_type": "code",
   "execution_count": 9,
   "metadata": {},
   "outputs": [],
   "source": [
    "df['memory_64GB'] = df['Listing'].str.contains('64GB|64 GB|128GB|128 GB|256GB|256 GB|512GB|512 GB', flags = re.IGNORECASE).astype('int')"
   ]
  },
  {
   "cell_type": "code",
   "execution_count": 10,
   "metadata": {},
   "outputs": [],
   "source": [
    "df['unlocked'] = df['Listing'].str.contains('Unlocked|Network Locked', flags = re.IGNORECASE).astype('int')"
   ]
  },
  {
   "cell_type": "code",
   "execution_count": 11,
   "metadata": {},
   "outputs": [],
   "source": [
    "network_list = ['AT&T' , 'Verizon',  'Sprint' , 'T-Mobile' , 'ATT' , 'Mint', 'GSM+CDMA','CDMA+GSM','4G','5G','Cricket']\n",
    "df['network'] = df['Listing'].str.contains('|'.join(network_list), flags = re.IGNORECASE).astype('int')"
   ]
  },
  {
   "cell_type": "code",
   "execution_count": 12,
   "metadata": {},
   "outputs": [
    {
     "data": {
      "text/plain": [
       "1    900\n",
       "0    113\n",
       "Name: network, dtype: int64"
      ]
     },
     "execution_count": 12,
     "metadata": {},
     "output_type": "execute_result"
    }
   ],
   "source": [
    "df['network'].value_counts()"
   ]
  },
  {
   "cell_type": "code",
   "execution_count": 13,
   "metadata": {},
   "outputs": [],
   "source": [
    "network_list = ['All Colors', 'Various Colors','All Color' , 'White' , 'Green' , 'Blue' , 'Pacific', 'Red',\n",
    "                'Black','White','Purple','Silver','Gold','Graphite','Coral']\n",
    "df['color'] = df['Listing'].str.contains('|'.join(network_list), flags = re.IGNORECASE).astype('int')"
   ]
  },
  {
   "cell_type": "code",
   "execution_count": 14,
   "metadata": {},
   "outputs": [
    {
     "data": {
      "text/plain": [
       "0    609\n",
       "1    404\n",
       "Name: color, dtype: int64"
      ]
     },
     "execution_count": 14,
     "metadata": {},
     "output_type": "execute_result"
    }
   ],
   "source": [
    "df['color'].value_counts()"
   ]
  },
  {
   "cell_type": "code",
   "execution_count": 15,
   "metadata": {},
   "outputs": [
    {
     "data": {
      "text/html": [
       "<div>\n",
       "<style scoped>\n",
       "    .dataframe tbody tr th:only-of-type {\n",
       "        vertical-align: middle;\n",
       "    }\n",
       "\n",
       "    .dataframe tbody tr th {\n",
       "        vertical-align: top;\n",
       "    }\n",
       "\n",
       "    .dataframe thead th {\n",
       "        text-align: right;\n",
       "    }\n",
       "</style>\n",
       "<table border=\"1\" class=\"dataframe\">\n",
       "  <thead>\n",
       "    <tr style=\"text-align: right;\">\n",
       "      <th></th>\n",
       "      <th>Listing</th>\n",
       "      <th>Price</th>\n",
       "      <th>model_iPhone11</th>\n",
       "      <th>model_iPhone11_pro</th>\n",
       "      <th>model_iPhone11_pro_max</th>\n",
       "      <th>model_iPhone12</th>\n",
       "      <th>model_iPhone12_pro</th>\n",
       "      <th>model_iPhone12_pro_max</th>\n",
       "      <th>model_iPhoneXR</th>\n",
       "      <th>model_category</th>\n",
       "      <th>memory_64GB</th>\n",
       "      <th>unlocked</th>\n",
       "      <th>network</th>\n",
       "      <th>color</th>\n",
       "    </tr>\n",
       "  </thead>\n",
       "  <tbody>\n",
       "    <tr>\n",
       "      <th>0</th>\n",
       "      <td>Apple iPhone 11 Smartphone 64GB 128GB AT&amp;T Spr...</td>\n",
       "      <td>509.00</td>\n",
       "      <td>True</td>\n",
       "      <td>False</td>\n",
       "      <td>False</td>\n",
       "      <td>False</td>\n",
       "      <td>False</td>\n",
       "      <td>False</td>\n",
       "      <td>0</td>\n",
       "      <td>iPhone11</td>\n",
       "      <td>1</td>\n",
       "      <td>1</td>\n",
       "      <td>1</td>\n",
       "      <td>0</td>\n",
       "    </tr>\n",
       "    <tr>\n",
       "      <th>1</th>\n",
       "      <td>Apple iPhone 11 Pro Max - 64GB 256GB 512GB, Al...</td>\n",
       "      <td>769.99</td>\n",
       "      <td>False</td>\n",
       "      <td>False</td>\n",
       "      <td>True</td>\n",
       "      <td>False</td>\n",
       "      <td>False</td>\n",
       "      <td>False</td>\n",
       "      <td>0</td>\n",
       "      <td>iPhone11 Pro Max</td>\n",
       "      <td>1</td>\n",
       "      <td>1</td>\n",
       "      <td>1</td>\n",
       "      <td>1</td>\n",
       "    </tr>\n",
       "    <tr>\n",
       "      <th>2</th>\n",
       "      <td>Unlocked Apple iPhone 11 🍎 64GB 128GB 256GB Ve...</td>\n",
       "      <td>499.99</td>\n",
       "      <td>True</td>\n",
       "      <td>False</td>\n",
       "      <td>False</td>\n",
       "      <td>False</td>\n",
       "      <td>False</td>\n",
       "      <td>False</td>\n",
       "      <td>0</td>\n",
       "      <td>iPhone11</td>\n",
       "      <td>1</td>\n",
       "      <td>1</td>\n",
       "      <td>1</td>\n",
       "      <td>0</td>\n",
       "    </tr>\n",
       "    <tr>\n",
       "      <th>3</th>\n",
       "      <td>Apple iPhone 11 Smartphone 64GB 128GB AT&amp;T Spr...</td>\n",
       "      <td>509.00</td>\n",
       "      <td>True</td>\n",
       "      <td>False</td>\n",
       "      <td>False</td>\n",
       "      <td>False</td>\n",
       "      <td>False</td>\n",
       "      <td>False</td>\n",
       "      <td>0</td>\n",
       "      <td>iPhone11</td>\n",
       "      <td>1</td>\n",
       "      <td>1</td>\n",
       "      <td>1</td>\n",
       "      <td>0</td>\n",
       "    </tr>\n",
       "    <tr>\n",
       "      <th>4</th>\n",
       "      <td>Apple iPhone 11 Smartphone 64GB 128GB AT&amp;T Spr...</td>\n",
       "      <td>509.00</td>\n",
       "      <td>True</td>\n",
       "      <td>False</td>\n",
       "      <td>False</td>\n",
       "      <td>False</td>\n",
       "      <td>False</td>\n",
       "      <td>False</td>\n",
       "      <td>0</td>\n",
       "      <td>iPhone11</td>\n",
       "      <td>1</td>\n",
       "      <td>1</td>\n",
       "      <td>1</td>\n",
       "      <td>0</td>\n",
       "    </tr>\n",
       "  </tbody>\n",
       "</table>\n",
       "</div>"
      ],
      "text/plain": [
       "                                             Listing   Price  model_iPhone11  \\\n",
       "0  Apple iPhone 11 Smartphone 64GB 128GB AT&T Spr...  509.00            True   \n",
       "1  Apple iPhone 11 Pro Max - 64GB 256GB 512GB, Al...  769.99           False   \n",
       "2  Unlocked Apple iPhone 11 🍎 64GB 128GB 256GB Ve...  499.99            True   \n",
       "3  Apple iPhone 11 Smartphone 64GB 128GB AT&T Spr...  509.00            True   \n",
       "4  Apple iPhone 11 Smartphone 64GB 128GB AT&T Spr...  509.00            True   \n",
       "\n",
       "   model_iPhone11_pro  model_iPhone11_pro_max  model_iPhone12  \\\n",
       "0               False                   False           False   \n",
       "1               False                    True           False   \n",
       "2               False                   False           False   \n",
       "3               False                   False           False   \n",
       "4               False                   False           False   \n",
       "\n",
       "   model_iPhone12_pro  model_iPhone12_pro_max  model_iPhoneXR  \\\n",
       "0               False                   False               0   \n",
       "1               False                   False               0   \n",
       "2               False                   False               0   \n",
       "3               False                   False               0   \n",
       "4               False                   False               0   \n",
       "\n",
       "     model_category  memory_64GB  unlocked  network  color  \n",
       "0          iPhone11            1         1        1      0  \n",
       "1  iPhone11 Pro Max            1         1        1      1  \n",
       "2          iPhone11            1         1        1      0  \n",
       "3          iPhone11            1         1        1      0  \n",
       "4          iPhone11            1         1        1      0  "
      ]
     },
     "execution_count": 15,
     "metadata": {},
     "output_type": "execute_result"
    }
   ],
   "source": [
    "# Overview of data\n",
    "df.head()"
   ]
  },
  {
   "cell_type": "code",
   "execution_count": 16,
   "metadata": {},
   "outputs": [
    {
     "data": {
      "text/plain": [
       "Listing                   0\n",
       "Price                     0\n",
       "model_iPhone11            0\n",
       "model_iPhone11_pro        0\n",
       "model_iPhone11_pro_max    0\n",
       "model_iPhone12            0\n",
       "model_iPhone12_pro        0\n",
       "model_iPhone12_pro_max    0\n",
       "model_iPhoneXR            0\n",
       "model_category            0\n",
       "memory_64GB               0\n",
       "unlocked                  0\n",
       "network                   0\n",
       "color                     0\n",
       "dtype: int64"
      ]
     },
     "execution_count": 16,
     "metadata": {},
     "output_type": "execute_result"
    }
   ],
   "source": [
    "df.isnull().sum()"
   ]
  },
  {
   "cell_type": "markdown",
   "metadata": {},
   "source": [
    "### Visualization: Model Category vs. Price"
   ]
  },
  {
   "cell_type": "code",
   "execution_count": 17,
   "metadata": {},
   "outputs": [
    {
     "data": {
      "image/png": "[encoded data removed]",
      "text/plain": [
       "<Figure size 842.4x595.44 with 1 Axes>"
      ]
     },
     "metadata": {
      "needs_background": "light"
     },
     "output_type": "display_data"
    }
   ],
   "source": [
    "import matplotlib.pyplot as plt\n",
    "import seaborn as sns\n",
    "\n",
    "fig, ax = plt.subplots()\n",
    "fig.set_size_inches(11.7, 8.27)\n",
    "sns.boxplot(x = 'model_category', y = 'Price', data = df, ax = ax)\n",
    "sns.despine()\n",
    "fig.savefig('modelVsprice.png')"
   ]
  },
  {
   "cell_type": "code",
   "execution_count": 18,
   "metadata": {},
   "outputs": [],
   "source": [
    "#convert boolean type to int\n",
    "df['model_iPhone11'] = df['model_iPhone11'].astype('int')\n",
    "df['model_iPhone11_pro'] = df['model_iPhone11_pro'].astype('int')\n",
    "df['model_iPhone11_pro_max'] = df['model_iPhone11_pro_max'].astype('int')\n",
    "df['model_iPhone12'] = df['model_iPhone12'].astype('int')\n",
    "df['model_iPhone12_pro']= df['model_iPhone12_pro'].astype('int')\n",
    "df['model_iPhone12_pro_max'] = df['model_iPhone12_pro_max'].astype('int')\n",
    "df['memory_64GB'] = df['memory_64GB'].astype('int')\n",
    "df['unlocked'] = df['unlocked'].astype('int')\n",
    "df['network'] = df['network'].astype('int')\n",
    "df['color'] = df['color'].astype('int')"
   ]
  },
  {
   "cell_type": "markdown",
   "metadata": {},
   "source": [
    "### Outlier removal"
   ]
  },
  {
   "cell_type": "markdown",
   "metadata": {},
   "source": [
    "Some price ranges are outlier. For example , few prices for iPhone 12 Pro max is more than \\$ 2000. These prices are from listing title with bid on it. eBay has feature where you can put your product for bid. Since we are focusing on used product listing title , we will ignore bid listing and price. "
   ]
  },
  {
   "cell_type": "code",
   "execution_count": 19,
   "metadata": {},
   "outputs": [],
   "source": [
    "# This part improved my model performance\n",
    "from numpy import mean\n",
    "from numpy import std\n",
    "data_mean , data_std = mean(df['Price']), std(df['Price'])\n",
    "cut_off = data_std *1\n",
    "lower, upper = data_mean-cut_off, data_mean+cut_off\n",
    "df = df[(df['Price']>lower) & (df['Price']<upper)]\n"
   ]
  },
  {
   "cell_type": "code",
   "execution_count": 20,
   "metadata": {},
   "outputs": [
    {
     "data": {
      "text/html": [
       "<div>\n",
       "<style scoped>\n",
       "    .dataframe tbody tr th:only-of-type {\n",
       "        vertical-align: middle;\n",
       "    }\n",
       "\n",
       "    .dataframe tbody tr th {\n",
       "        vertical-align: top;\n",
       "    }\n",
       "\n",
       "    .dataframe thead th {\n",
       "        text-align: right;\n",
       "    }\n",
       "</style>\n",
       "<table border=\"1\" class=\"dataframe\">\n",
       "  <thead>\n",
       "    <tr style=\"text-align: right;\">\n",
       "      <th></th>\n",
       "      <th>Listing</th>\n",
       "      <th>Price</th>\n",
       "      <th>model_iPhone11</th>\n",
       "      <th>model_iPhone11_pro</th>\n",
       "      <th>model_iPhone11_pro_max</th>\n",
       "      <th>model_iPhone12</th>\n",
       "      <th>model_iPhone12_pro</th>\n",
       "      <th>model_iPhone12_pro_max</th>\n",
       "      <th>model_iPhoneXR</th>\n",
       "      <th>model_category</th>\n",
       "      <th>memory_64GB</th>\n",
       "      <th>unlocked</th>\n",
       "      <th>network</th>\n",
       "      <th>color</th>\n",
       "    </tr>\n",
       "  </thead>\n",
       "  <tbody>\n",
       "    <tr>\n",
       "      <th>0</th>\n",
       "      <td>Apple iPhone 11 Smartphone 64GB 128GB AT&amp;T Spr...</td>\n",
       "      <td>509.00</td>\n",
       "      <td>1</td>\n",
       "      <td>0</td>\n",
       "      <td>0</td>\n",
       "      <td>0</td>\n",
       "      <td>0</td>\n",
       "      <td>0</td>\n",
       "      <td>0</td>\n",
       "      <td>iPhone11</td>\n",
       "      <td>1</td>\n",
       "      <td>1</td>\n",
       "      <td>1</td>\n",
       "      <td>0</td>\n",
       "    </tr>\n",
       "    <tr>\n",
       "      <th>1</th>\n",
       "      <td>Apple iPhone 11 Pro Max - 64GB 256GB 512GB, Al...</td>\n",
       "      <td>769.99</td>\n",
       "      <td>0</td>\n",
       "      <td>0</td>\n",
       "      <td>1</td>\n",
       "      <td>0</td>\n",
       "      <td>0</td>\n",
       "      <td>0</td>\n",
       "      <td>0</td>\n",
       "      <td>iPhone11 Pro Max</td>\n",
       "      <td>1</td>\n",
       "      <td>1</td>\n",
       "      <td>1</td>\n",
       "      <td>1</td>\n",
       "    </tr>\n",
       "    <tr>\n",
       "      <th>2</th>\n",
       "      <td>Unlocked Apple iPhone 11 🍎 64GB 128GB 256GB Ve...</td>\n",
       "      <td>499.99</td>\n",
       "      <td>1</td>\n",
       "      <td>0</td>\n",
       "      <td>0</td>\n",
       "      <td>0</td>\n",
       "      <td>0</td>\n",
       "      <td>0</td>\n",
       "      <td>0</td>\n",
       "      <td>iPhone11</td>\n",
       "      <td>1</td>\n",
       "      <td>1</td>\n",
       "      <td>1</td>\n",
       "      <td>0</td>\n",
       "    </tr>\n",
       "    <tr>\n",
       "      <th>3</th>\n",
       "      <td>Apple iPhone 11 Smartphone 64GB 128GB AT&amp;T Spr...</td>\n",
       "      <td>509.00</td>\n",
       "      <td>1</td>\n",
       "      <td>0</td>\n",
       "      <td>0</td>\n",
       "      <td>0</td>\n",
       "      <td>0</td>\n",
       "      <td>0</td>\n",
       "      <td>0</td>\n",
       "      <td>iPhone11</td>\n",
       "      <td>1</td>\n",
       "      <td>1</td>\n",
       "      <td>1</td>\n",
       "      <td>0</td>\n",
       "    </tr>\n",
       "    <tr>\n",
       "      <th>4</th>\n",
       "      <td>Apple iPhone 11 Smartphone 64GB 128GB AT&amp;T Spr...</td>\n",
       "      <td>509.00</td>\n",
       "      <td>1</td>\n",
       "      <td>0</td>\n",
       "      <td>0</td>\n",
       "      <td>0</td>\n",
       "      <td>0</td>\n",
       "      <td>0</td>\n",
       "      <td>0</td>\n",
       "      <td>iPhone11</td>\n",
       "      <td>1</td>\n",
       "      <td>1</td>\n",
       "      <td>1</td>\n",
       "      <td>0</td>\n",
       "    </tr>\n",
       "  </tbody>\n",
       "</table>\n",
       "</div>"
      ],
      "text/plain": [
       "                                             Listing   Price  model_iPhone11  \\\n",
       "0  Apple iPhone 11 Smartphone 64GB 128GB AT&T Spr...  509.00               1   \n",
       "1  Apple iPhone 11 Pro Max - 64GB 256GB 512GB, Al...  769.99               0   \n",
       "2  Unlocked Apple iPhone 11 🍎 64GB 128GB 256GB Ve...  499.99               1   \n",
       "3  Apple iPhone 11 Smartphone 64GB 128GB AT&T Spr...  509.00               1   \n",
       "4  Apple iPhone 11 Smartphone 64GB 128GB AT&T Spr...  509.00               1   \n",
       "\n",
       "   model_iPhone11_pro  model_iPhone11_pro_max  model_iPhone12  \\\n",
       "0                   0                       0               0   \n",
       "1                   0                       1               0   \n",
       "2                   0                       0               0   \n",
       "3                   0                       0               0   \n",
       "4                   0                       0               0   \n",
       "\n",
       "   model_iPhone12_pro  model_iPhone12_pro_max  model_iPhoneXR  \\\n",
       "0                   0                       0               0   \n",
       "1                   0                       0               0   \n",
       "2                   0                       0               0   \n",
       "3                   0                       0               0   \n",
       "4                   0                       0               0   \n",
       "\n",
       "     model_category  memory_64GB  unlocked  network  color  \n",
       "0          iPhone11            1         1        1      0  \n",
       "1  iPhone11 Pro Max            1         1        1      1  \n",
       "2          iPhone11            1         1        1      0  \n",
       "3          iPhone11            1         1        1      0  \n",
       "4          iPhone11            1         1        1      0  "
      ]
     },
     "execution_count": 20,
     "metadata": {},
     "output_type": "execute_result"
    }
   ],
   "source": [
    "df.shape\n",
    "df.head()"
   ]
  },
  {
   "cell_type": "markdown",
   "metadata": {},
   "source": [
    "### Train-Test split"
   ]
  },
  {
   "cell_type": "code",
   "execution_count": 21,
   "metadata": {},
   "outputs": [
    {
     "data": {
      "text/plain": [
       "(939, 11)"
      ]
     },
     "execution_count": 21,
     "metadata": {},
     "output_type": "execute_result"
    }
   ],
   "source": [
    "column_for_training = ['model_iPhone11','model_iPhone11_pro', 'model_iPhone11_pro_max','model_iPhone12','model_iPhone12_pro',\n",
    "                       'model_iPhone12_pro_max','model_iPhoneXR', 'memory_64GB','unlocked', 'network', 'color']\n",
    "y = df['Price']\n",
    "X = df[column_for_training]\n",
    "X.shape"
   ]
  },
  {
   "cell_type": "code",
   "execution_count": 22,
   "metadata": {},
   "outputs": [],
   "source": [
    "from sklearn.model_selection import train_test_split\n",
    "from sklearn.linear_model import LinearRegression\n",
    "\n",
    "\n",
    "X_train, X_test, y_train, y_test = train_test_split(X, y, test_size=0.20, random_state=42)"
   ]
  },
  {
   "cell_type": "markdown",
   "metadata": {},
   "source": [
    "### Modelling"
   ]
  },
  {
   "cell_type": "markdown",
   "metadata": {},
   "source": [
    "#### Linear Regression"
   ]
  },
  {
   "cell_type": "code",
   "execution_count": 23,
   "metadata": {},
   "outputs": [
    {
     "data": {
      "text/plain": [
       "LinearRegression()"
      ]
     },
     "execution_count": 23,
     "metadata": {},
     "output_type": "execute_result"
    }
   ],
   "source": [
    "lr = LinearRegression()\n",
    "lr.fit(X_train, y_train)"
   ]
  },
  {
   "cell_type": "code",
   "execution_count": 24,
   "metadata": {},
   "outputs": [
    {
     "data": {
      "text/plain": [
       "0.8140971789295448"
      ]
     },
     "execution_count": 24,
     "metadata": {},
     "output_type": "execute_result"
    }
   ],
   "source": [
    "lr.score(X_test, y_test)"
   ]
  },
  {
   "cell_type": "code",
   "execution_count": 25,
   "metadata": {},
   "outputs": [
    {
     "name": "stdout",
     "output_type": "stream",
     "text": [
      "RMSE for Linear Network: 83.20367466599977\n"
     ]
    }
   ],
   "source": [
    "a = lr.predict(X_test)\n",
    "print(\"RMSE for Linear Network:\", np.sqrt(np.mean((y_test-a.reshape(a.size,))**2)))"
   ]
  },
  {
   "cell_type": "code",
   "execution_count": 26,
   "metadata": {},
   "outputs": [
    {
     "name": "stdout",
     "output_type": "stream",
     "text": [
      "0.8140971789295448\n"
     ]
    }
   ],
   "source": [
    "from sklearn.metrics import r2_score\n",
    "print(r2_score(y_test, a))"
   ]
  },
  {
   "cell_type": "markdown",
   "metadata": {},
   "source": [
    "#### Ridge Regression"
   ]
  },
  {
   "cell_type": "code",
   "execution_count": 28,
   "metadata": {},
   "outputs": [
    {
     "data": {
      "text/plain": [
       "GridSearchCV(estimator=Ridge(), param_grid={'alpha': [0.9, 1, 2, 3, 4, 5]})"
      ]
     },
     "execution_count": 28,
     "metadata": {},
     "output_type": "execute_result"
    }
   ],
   "source": [
    "from sklearn.model_selection import GridSearchCV\n",
    "from sklearn.linear_model import Ridge\n",
    "param_grid_ridge = {'alpha': [0.9, 1, 2, 3, 4, 5]} \n",
    "grid_ridge = GridSearchCV(Ridge(), param_grid_ridge)\n",
    "grid_ridge.fit(X_train, y_train)"
   ]
  },
  {
   "cell_type": "code",
   "execution_count": 29,
   "metadata": {},
   "outputs": [
    {
     "data": {
      "text/plain": [
       "0.8150464145841326"
      ]
     },
     "execution_count": 29,
     "metadata": {},
     "output_type": "execute_result"
    }
   ],
   "source": [
    "grid_ridge.score(X_test, y_test)"
   ]
  },
  {
   "cell_type": "code",
   "execution_count": 30,
   "metadata": {},
   "outputs": [
    {
     "name": "stdout",
     "output_type": "stream",
     "text": [
      "RMSE for Ridge regression 82.99098028118586\n"
     ]
    }
   ],
   "source": [
    "b = grid_ridge.predict(X_test)\n",
    "print(\"RMSE for Ridge regression\", np.sqrt(np.mean((y_test-b.reshape(b.size,))**2)))"
   ]
  },
  {
   "cell_type": "markdown",
   "metadata": {},
   "source": [
    "#### Lasso Regression"
   ]
  },
  {
   "cell_type": "code",
   "execution_count": 32,
   "metadata": {},
   "outputs": [
    {
     "data": {
      "text/plain": [
       "GridSearchCV(estimator=Lasso(),\n",
       "             param_grid={'alpha': [0.1, 0.2, 0.3, 0.4, 0.5, 0.6]})"
      ]
     },
     "execution_count": 32,
     "metadata": {},
     "output_type": "execute_result"
    }
   ],
   "source": [
    "from sklearn.linear_model import Lasso\n",
    "param_grid_lasso = {'alpha': [0.1, 0.2, 0.3, 0.4, 0.5, 0.6]} \n",
    "grid_lasso = GridSearchCV(Lasso(), param_grid_lasso)\n",
    "grid_lasso.fit(X_train, y_train)"
   ]
  },
  {
   "cell_type": "code",
   "execution_count": 34,
   "metadata": {},
   "outputs": [
    {
     "data": {
      "text/plain": [
       "0.8149105047811528"
      ]
     },
     "execution_count": 34,
     "metadata": {},
     "output_type": "execute_result"
    }
   ],
   "source": [
    "grid_lasso.score(X_test, y_test)"
   ]
  },
  {
   "cell_type": "code",
   "execution_count": 35,
   "metadata": {},
   "outputs": [
    {
     "name": "stdout",
     "output_type": "stream",
     "text": [
      "RMSE for Lasso regression 83.02146689332557\n"
     ]
    }
   ],
   "source": [
    "c = grid_lasso.predict(X_test)\n",
    "print(\"RMSE for Lasso regression\", np.sqrt(np.mean((y_test-c.reshape(c.size,))**2)))"
   ]
  },
  {
   "cell_type": "markdown",
   "metadata": {},
   "source": [
    "#### Random Forest"
   ]
  },
  {
   "cell_type": "code",
   "execution_count": 36,
   "metadata": {},
   "outputs": [
    {
     "data": {
      "text/plain": [
       "GridSearchCV(estimator=RandomForestRegressor(random_state=0),\n",
       "             param_grid={'max_depth': [1, 2, 3, 4, 5, 6, 7, 8]})"
      ]
     },
     "execution_count": 36,
     "metadata": {},
     "output_type": "execute_result"
    }
   ],
   "source": [
    "from sklearn.ensemble import RandomForestRegressor\n",
    "param_grid_random = {'max_depth': [1, 2, 3, 4, 5, 6, 7, 8]} \n",
    "grid_random = GridSearchCV(RandomForestRegressor(random_state = 0), param_grid_random)\n",
    "grid_random.fit(X_train, y_train)"
   ]
  },
  {
   "cell_type": "code",
   "execution_count": 37,
   "metadata": {},
   "outputs": [
    {
     "data": {
      "text/plain": [
       "0.8298963483890917"
      ]
     },
     "execution_count": 37,
     "metadata": {},
     "output_type": "execute_result"
    }
   ],
   "source": [
    "grid_random.score(X_test, y_test)"
   ]
  },
  {
   "cell_type": "code",
   "execution_count": 38,
   "metadata": {},
   "outputs": [
    {
     "name": "stdout",
     "output_type": "stream",
     "text": [
      "RMSE for Random Forest regression 79.5896024559749\n"
     ]
    }
   ],
   "source": [
    "d = grid_random.predict(X_test)\n",
    "print(\"RMSE for Random Forest regression\", np.sqrt(np.mean((y_test-d.reshape(d.size,))**2)))"
   ]
  },
  {
   "cell_type": "markdown",
   "metadata": {},
   "source": [
    "#### Deep learning"
   ]
  },
  {
   "cell_type": "code",
   "execution_count": 39,
   "metadata": {},
   "outputs": [
    {
     "name": "stderr",
     "output_type": "stream",
     "text": [
      "Using TensorFlow backend.\n",
      "C:\\Users\\shrid\\anaconda3\\lib\\site-packages\\tensorflow\\python\\framework\\dtypes.py:526: FutureWarning: Passing (type, 1) or '1type' as a synonym of type is deprecated; in a future version of numpy, it will be understood as (type, (1,)) / '(1,)type'.\n",
      "  _np_qint8 = np.dtype([(\"qint8\", np.int8, 1)])\n",
      "C:\\Users\\shrid\\anaconda3\\lib\\site-packages\\tensorflow\\python\\framework\\dtypes.py:527: FutureWarning: Passing (type, 1) or '1type' as a synonym of type is deprecated; in a future version of numpy, it will be understood as (type, (1,)) / '(1,)type'.\n",
      "  _np_quint8 = np.dtype([(\"quint8\", np.uint8, 1)])\n",
      "C:\\Users\\shrid\\anaconda3\\lib\\site-packages\\tensorflow\\python\\framework\\dtypes.py:528: FutureWarning: Passing (type, 1) or '1type' as a synonym of type is deprecated; in a future version of numpy, it will be understood as (type, (1,)) / '(1,)type'.\n",
      "  _np_qint16 = np.dtype([(\"qint16\", np.int16, 1)])\n",
      "C:\\Users\\shrid\\anaconda3\\lib\\site-packages\\tensorflow\\python\\framework\\dtypes.py:529: FutureWarning: Passing (type, 1) or '1type' as a synonym of type is deprecated; in a future version of numpy, it will be understood as (type, (1,)) / '(1,)type'.\n",
      "  _np_quint16 = np.dtype([(\"quint16\", np.uint16, 1)])\n",
      "C:\\Users\\shrid\\anaconda3\\lib\\site-packages\\tensorflow\\python\\framework\\dtypes.py:530: FutureWarning: Passing (type, 1) or '1type' as a synonym of type is deprecated; in a future version of numpy, it will be understood as (type, (1,)) / '(1,)type'.\n",
      "  _np_qint32 = np.dtype([(\"qint32\", np.int32, 1)])\n",
      "C:\\Users\\shrid\\anaconda3\\lib\\site-packages\\tensorflow\\python\\framework\\dtypes.py:535: FutureWarning: Passing (type, 1) or '1type' as a synonym of type is deprecated; in a future version of numpy, it will be understood as (type, (1,)) / '(1,)type'.\n",
      "  np_resource = np.dtype([(\"resource\", np.ubyte, 1)])\n"
     ]
    }
   ],
   "source": [
    "from keras.models import Sequential\n",
    "import keras.optimizers as opti\n",
    "from keras.layers import Dense, Activation,Dropout"
   ]
  },
  {
   "cell_type": "code",
   "execution_count": 40,
   "metadata": {},
   "outputs": [
    {
     "name": "stdout",
     "output_type": "stream",
     "text": [
      "WARNING:tensorflow:From C:\\Users\\shrid\\anaconda3\\lib\\site-packages\\tensorflow\\python\\framework\\op_def_library.py:263: colocate_with (from tensorflow.python.framework.ops) is deprecated and will be removed in a future version.\n",
      "Instructions for updating:\n",
      "Colocations handled automatically by placer.\n",
      "WARNING:tensorflow:From C:\\Users\\shrid\\anaconda3\\lib\\site-packages\\keras\\backend\\tensorflow_backend.py:3445: calling dropout (from tensorflow.python.ops.nn_ops) with keep_prob is deprecated and will be removed in a future version.\n",
      "Instructions for updating:\n",
      "Please use `rate` instead of `keep_prob`. Rate should be set to `rate = 1 - keep_prob`.\n",
      "_________________________________________________________________\n",
      "Layer (type)                 Output Shape              Param #   \n",
      "=================================================================\n",
      "dense_1 (Dense)              (None, 100)               1200      \n",
      "_________________________________________________________________\n",
      "activation_1 (Activation)    (None, 100)               0         \n",
      "_________________________________________________________________\n",
      "dropout_1 (Dropout)          (None, 100)               0         \n",
      "_________________________________________________________________\n",
      "dense_2 (Dense)              (None, 100)               10100     \n",
      "_________________________________________________________________\n",
      "activation_2 (Activation)    (None, 100)               0         \n",
      "_________________________________________________________________\n",
      "dense_3 (Dense)              (None, 50)                5050      \n",
      "_________________________________________________________________\n",
      "activation_3 (Activation)    (None, 50)                0         \n",
      "_________________________________________________________________\n",
      "dense_4 (Dense)              (None, 50)                2550      \n",
      "_________________________________________________________________\n",
      "activation_4 (Activation)    (None, 50)                0         \n",
      "_________________________________________________________________\n",
      "dense_5 (Dense)              (None, 1)                 51        \n",
      "=================================================================\n",
      "Total params: 18,951\n",
      "Trainable params: 18,951\n",
      "Non-trainable params: 0\n",
      "_________________________________________________________________\n"
     ]
    }
   ],
   "source": [
    "model = Sequential()\n",
    "model.add(Dense(100, input_dim=11))\n",
    "model.add(Activation('selu'))\n",
    "model.add(Dropout(0.3))\n",
    "model.add(Dense(100))\n",
    "model.add(Activation('selu'))\n",
    "model.add(Dense(50))\n",
    "model.add(Activation('elu'))\n",
    "model.add(Dense(50))\n",
    "model.add(Activation('elu'))\n",
    "model.add(Dense(1))\n",
    "model.summary()"
   ]
  },
  {
   "cell_type": "code",
   "execution_count": 41,
   "metadata": {},
   "outputs": [],
   "source": [
    "#needs more hyper parameter tuning(work in progress)\n",
    "learning_rate=0.001\n",
    "optimizer = opti.RMSprop(lr=learning_rate)\n",
    "model.compile(optimizer=optimizer,loss='mse')"
   ]
  },
  {
   "cell_type": "code",
   "execution_count": 42,
   "metadata": {},
   "outputs": [
    {
     "name": "stdout",
     "output_type": "stream",
     "text": [
      "WARNING:tensorflow:From C:\\Users\\shrid\\anaconda3\\lib\\site-packages\\tensorflow\\python\\ops\\math_ops.py:3066: to_int32 (from tensorflow.python.ops.math_ops) is deprecated and will be removed in a future version.\n",
      "Instructions for updating:\n",
      "Use tf.cast instead.\n"
     ]
    },
    {
     "data": {
      "text/plain": [
       "<keras.callbacks.History at 0x1aeb1f2c080>"
      ]
     },
     "execution_count": 42,
     "metadata": {},
     "output_type": "execute_result"
    }
   ],
   "source": [
    "model.fit(X_train, y_train, epochs=50, batch_size=10,verbose=0)"
   ]
  },
  {
   "cell_type": "code",
   "execution_count": 43,
   "metadata": {},
   "outputs": [
    {
     "name": "stdout",
     "output_type": "stream",
     "text": [
      "RMSE for Deep Network: 95.36428354765793\n"
     ]
    }
   ],
   "source": [
    "e = model.predict(X_test)\n",
    "print(\"RMSE for Deep Network:\",np.sqrt(np.mean((y_test-e.reshape(e.size,))**2)))"
   ]
  },
  {
   "cell_type": "markdown",
   "metadata": {},
   "source": [
    "#### XGB Regressor"
   ]
  },
  {
   "cell_type": "code",
   "execution_count": 44,
   "metadata": {},
   "outputs": [
    {
     "data": {
      "text/plain": [
       "XGBRegressor(base_score=0.5, booster='gbtree', colsample_bylevel=1,\n",
       "             colsample_bynode=1, colsample_bytree=1, gamma=0, gpu_id=-1,\n",
       "             importance_type='gain', interaction_constraints='',\n",
       "             learning_rate=0.01, max_delta_step=0, max_depth=10,\n",
       "             min_child_weight=1, missing=nan, monotone_constraints='()',\n",
       "             n_estimators=400, n_jobs=0, num_parallel_tree=1, random_state=0,\n",
       "             reg_alpha=0, reg_lambda=1, scale_pos_weight=1, subsample=1,\n",
       "             tree_method='exact', validate_parameters=1, verbosity=None)"
      ]
     },
     "execution_count": 44,
     "metadata": {},
     "output_type": "execute_result"
    }
   ],
   "source": [
    "import xgboost as xgb\n",
    "xgbr = xgb.XGBRegressor(n_estimators  = 400,learning_rate = 0.01, max_depth = 10)\n",
    "xgbr.fit(X_train, y_train)"
   ]
  },
  {
   "cell_type": "code",
   "execution_count": 45,
   "metadata": {},
   "outputs": [
    {
     "data": {
      "text/plain": [
       "0.8309803438488659"
      ]
     },
     "execution_count": 45,
     "metadata": {},
     "output_type": "execute_result"
    }
   ],
   "source": [
    "xgbr.score(X_test, y_test)"
   ]
  },
  {
   "cell_type": "code",
   "execution_count": 46,
   "metadata": {},
   "outputs": [
    {
     "name": "stdout",
     "output_type": "stream",
     "text": [
      "RMSE for XGB regression 79.33560245556976\n"
     ]
    }
   ],
   "source": [
    "f = xgbr.predict(X_test)\n",
    "print(\"RMSE for XGB regression\", np.sqrt(np.mean((y_test-f.reshape(f.size,))**2)))"
   ]
  },
  {
   "cell_type": "markdown",
   "metadata": {},
   "source": [
    "#### Ensemble Method"
   ]
  },
  {
   "cell_type": "markdown",
   "metadata": {},
   "source": [
    "We tried to combine XGBRegessor and Random Forest regressor for building ensemble model. As we can see ensemble model does improve predictive accuracy. We didn't use this model for deployment since we wanted to deploy more explainable model. Ensemble model are hard to explain. "
   ]
  },
  {
   "cell_type": "code",
   "execution_count": 47,
   "metadata": {},
   "outputs": [],
   "source": [
    "\n",
    "from sklearn.ensemble import StackingRegressor\n",
    "estimators =  [('xgb',xgb.XGBRegressor(n_estimators  = 400,learning_rate = 0.01, max_depth = 10))]\n",
    "\n",
    "ensemble = StackingRegressor(estimators      =  estimators,\n",
    "                             final_estimator =  RandomForestRegressor(max_depth=6, random_state=0))"
   ]
  },
  {
   "cell_type": "code",
   "execution_count": 48,
   "metadata": {},
   "outputs": [
    {
     "data": {
      "text/plain": [
       "StackingRegressor(estimators=[('xgb',\n",
       "                               XGBRegressor(base_score=None, booster=None,\n",
       "                                            colsample_bylevel=None,\n",
       "                                            colsample_bynode=None,\n",
       "                                            colsample_bytree=None, gamma=None,\n",
       "                                            gpu_id=None, importance_type='gain',\n",
       "                                            interaction_constraints=None,\n",
       "                                            learning_rate=0.01,\n",
       "                                            max_delta_step=None, max_depth=10,\n",
       "                                            min_child_weight=None, missing=nan,\n",
       "                                            monotone_constraints=None,\n",
       "                                            n_estimators=400, n_jobs=None,\n",
       "                                            num_parallel_tree=None,\n",
       "                                            random_state=None, reg_alpha=None,\n",
       "                                            reg_lambda=None,\n",
       "                                            scale_pos_weight=None,\n",
       "                                            subsample=None, tree_method=None,\n",
       "                                            validate_parameters=None,\n",
       "                                            verbosity=None))],\n",
       "                  final_estimator=RandomForestRegressor(max_depth=6,\n",
       "                                                        random_state=0))"
      ]
     },
     "execution_count": 48,
     "metadata": {},
     "output_type": "execute_result"
    }
   ],
   "source": [
    "ensemble.fit(X_train, y_train)"
   ]
  },
  {
   "cell_type": "code",
   "execution_count": 49,
   "metadata": {},
   "outputs": [
    {
     "data": {
      "text/plain": [
       "0.840728763688209"
      ]
     },
     "execution_count": 49,
     "metadata": {},
     "output_type": "execute_result"
    }
   ],
   "source": [
    "ensemble.score(X_test, y_test)"
   ]
  },
  {
   "cell_type": "code",
   "execution_count": 50,
   "metadata": {},
   "outputs": [
    {
     "name": "stdout",
     "output_type": "stream",
     "text": [
      "RMSE for ensemble regression 77.01373614222636\n"
     ]
    }
   ],
   "source": [
    "g = ensemble.predict(X_test)\n",
    "print(\"RMSE for ensemble regression\", np.sqrt(np.mean((y_test-g.reshape(g.size,))**2)))"
   ]
  },
  {
   "cell_type": "markdown",
   "metadata": {},
   "source": [
    "### Future Work:"
   ]
  },
  {
   "cell_type": "markdown",
   "metadata": {},
   "source": [
    "* Build flask application and deploy model on server (Heroku, or AWS EC2 instance), so that end users can use it. \n",
    "* Collect more data from other websites.\n",
    "* In this project, I mostly scrapped data for iPhone 11, iPhone 12, and iPhone XR. In future , will extend to other iPhone model and other company product like Samsung , Motorola, etc."
   ]
  },
  {
   "cell_type": "code",
   "execution_count": null,
   "metadata": {},
   "outputs": [],
   "source": []
  }
 ],
 "metadata": {
  "kernelspec": {
   "display_name": "Python 3",
   "language": "python",
   "name": "python3"
  },
  "language_info": {
   "codemirror_mode": {
    "name": "ipython",
    "version": 3
   },
   "file_extension": ".py",
   "mimetype": "text/x-python",
   "name": "python",
   "nbconvert_exporter": "python",
   "pygments_lexer": "ipython3",
   "version": "3.7.1"
  }
 },
 "nbformat": 4,
 "nbformat_minor": 4
}
